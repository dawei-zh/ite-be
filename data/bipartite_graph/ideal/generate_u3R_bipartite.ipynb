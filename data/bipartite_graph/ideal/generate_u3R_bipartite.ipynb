{
 "cells": [
  {
   "cell_type": "code",
   "execution_count": 1,
   "id": "bc6f2376-f71b-4c3d-be7f-35fc4ab9fbf3",
   "metadata": {},
   "outputs": [
    {
     "name": "stdout",
     "output_type": "stream",
     "text": [
      "Intel MKL WARNING: Support of Intel(R) Streaming SIMD Extensions 4.2 (Intel(R) SSE4.2) enabled only processors has been deprecated. Intel oneAPI Math Kernel Library 2025.0 will require Intel(R) Advanced Vector Extensions (Intel(R) AVX) instructions.\n",
      "Intel MKL WARNING: Support of Intel(R) Streaming SIMD Extensions 4.2 (Intel(R) SSE4.2) enabled only processors has been deprecated. Intel oneAPI Math Kernel Library 2025.0 will require Intel(R) Advanced Vector Extensions (Intel(R) AVX) instructions.\n"
     ]
    }
   ],
   "source": [
    "import pickle\n",
    "import networkx as nx\n",
    "import numpy as np"
   ]
  },
  {
   "cell_type": "markdown",
   "id": "132a21e3-08b4-4b12-9f08-4d88ff09330f",
   "metadata": {},
   "source": [
    "## Generate graphs"
   ]
  },
  {
   "cell_type": "code",
   "execution_count": 2,
   "id": "79913c1c-0e2e-4c18-bc50-f97ba61407bb",
   "metadata": {},
   "outputs": [],
   "source": [
    "bipartite_graph = {}\n",
    "nodes = ['6', '8', '10', '12', '14', '16', '18', '20']\n",
    "\n",
    "for node in nodes:\n",
    "    bipartite_graph[node] = []\n",
    "    i = 0\n",
    "    j = 0\n",
    "    while j < 40:\n",
    "        tmp_graph = nx.random_regular_graph(n = int(node), d = 3, seed = i)\n",
    "        tmp_adj = nx.adjacency_matrix(tmp_graph).toarray()\n",
    "        tmp_eig_adj = np.sort(np.round(np.linalg.eigvals(tmp_adj), decimals = 3))\n",
    "        i += 1\n",
    "        if tmp_eig_adj[0] == -3:\n",
    "            bipartite_graph[node].append(tmp_graph)\n",
    "            j += 1"
   ]
  },
  {
   "cell_type": "code",
   "execution_count": 3,
   "id": "bb7e2900-f771-45fc-bd47-d95f67eb8f3b",
   "metadata": {},
   "outputs": [
    {
     "name": "stdout",
     "output_type": "stream",
     "text": [
      "Length for N=6 is 40\n",
      "Length for N=8 is 40\n",
      "Length for N=10 is 40\n",
      "Length for N=12 is 40\n",
      "Length for N=14 is 40\n",
      "Length for N=16 is 40\n",
      "Length for N=18 is 40\n",
      "Length for N=20 is 40\n"
     ]
    }
   ],
   "source": [
    "for node in nodes:\n",
    "    print(f\"Length for N={node} is {len(bipartite_graph[node])}\")"
   ]
  },
  {
   "cell_type": "code",
   "execution_count": 4,
   "id": "d828b9b7-6981-4973-a223-24996f7c6720",
   "metadata": {},
   "outputs": [],
   "source": [
    "with open(f'u3R_bipartite', 'wb') as file:\n",
    "    pickle.dump(bipartite_graph, file)"
   ]
  }
 ],
 "metadata": {
  "kernelspec": {
   "display_name": "Python 3 (ipykernel)",
   "language": "python",
   "name": "python3"
  },
  "language_info": {
   "codemirror_mode": {
    "name": "ipython",
    "version": 3
   },
   "file_extension": ".py",
   "mimetype": "text/x-python",
   "name": "python",
   "nbconvert_exporter": "python",
   "pygments_lexer": "ipython3",
   "version": "3.9.19"
  }
 },
 "nbformat": 4,
 "nbformat_minor": 5
}
