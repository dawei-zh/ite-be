{
 "cells": [
  {
   "cell_type": "code",
   "execution_count": 1,
   "id": "73280b4b-48e5-4a01-9694-bac58f3fc365",
   "metadata": {},
   "outputs": [],
   "source": [
    "import networkx as nx\n",
    "import pickle"
   ]
  },
  {
   "cell_type": "code",
   "execution_count": 2,
   "id": "d8bb64e6-90b7-405c-bf10-2afb5e1256df",
   "metadata": {},
   "outputs": [],
   "source": [
    "instances = 100\n",
    "\n",
    "graph = {}\n",
    "graph['6'] = []\n",
    "graph['8'] = []\n",
    "graph['10'] = []\n",
    "graph['12'] = []\n",
    "graph['14'] = []\n",
    "graph['16'] = []\n",
    "graph['18'] = []\n",
    "graph['20'] = []"
   ]
  },
  {
   "cell_type": "code",
   "execution_count": 3,
   "id": "035eb4a3-ae0e-44c4-95a2-91ff9773c949",
   "metadata": {},
   "outputs": [
    {
     "name": "stdout",
     "output_type": "stream",
     "text": [
      "Intel MKL WARNING: Support of Intel(R) Streaming SIMD Extensions 4.2 (Intel(R) SSE4.2) enabled only processors has been deprecated. Intel oneAPI Math Kernel Library 2025.0 will require Intel(R) Advanced Vector Extensions (Intel(R) AVX) instructions.\n",
      "Intel MKL WARNING: Support of Intel(R) Streaming SIMD Extensions 4.2 (Intel(R) SSE4.2) enabled only processors has been deprecated. Intel oneAPI Math Kernel Library 2025.0 will require Intel(R) Advanced Vector Extensions (Intel(R) AVX) instructions.\n"
     ]
    }
   ],
   "source": [
    "for i in range(instances):\n",
    "    graph['6'].append(nx.random_regular_graph(n = 6, d = 3, seed = i))\n",
    "    graph['8'].append(nx.random_regular_graph(n = 8, d = 3, seed = i))\n",
    "    graph['10'].append(nx.random_regular_graph(n = 10, d = 3, seed = i))\n",
    "    graph['12'].append(nx.random_regular_graph(n = 12, d = 3, seed = i))\n",
    "    graph['14'].append(nx.random_regular_graph(n = 14, d = 3, seed = i))\n",
    "    graph['16'].append(nx.random_regular_graph(n = 16, d = 3, seed = i))\n",
    "    graph['18'].append(nx.random_regular_graph(n = 18, d = 3, seed = i))\n",
    "    graph['20'].append(nx.random_regular_graph(n = 20, d = 3, seed = i))"
   ]
  },
  {
   "cell_type": "code",
   "execution_count": 4,
   "id": "8abc7716-aded-47a7-b1a6-e4bcd18a2671",
   "metadata": {},
   "outputs": [],
   "source": [
    "with open(f'graphu3R', 'wb') as file:\n",
    "    pickle.dump(graph, file)"
   ]
  }
 ],
 "metadata": {
  "kernelspec": {
   "display_name": "Python 3 (ipykernel)",
   "language": "python",
   "name": "python3"
  },
  "language_info": {
   "codemirror_mode": {
    "name": "ipython",
    "version": 3
   },
   "file_extension": ".py",
   "mimetype": "text/x-python",
   "name": "python",
   "nbconvert_exporter": "python",
   "pygments_lexer": "ipython3",
   "version": "3.9.19"
  }
 },
 "nbformat": 4,
 "nbformat_minor": 5
}
